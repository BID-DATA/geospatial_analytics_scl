{
 "cells": [
  {
   "cell_type": "markdown",
   "id": "6a713640",
   "metadata": {},
   "source": [
    "# Connectivity data\n",
    "\n",
    "**Objetive:** <br> \n",
    "The following notebook gathers connectivity information from Ookla's speedtest API based on [Ookla's Open Data Initiative](https://github.com/teamookla/ookla-open-data) GitHub repository and the [tutorials](https://github.com/teamookla/ookla-open-data/blob/master/tutorials/aggregate_by_county_py.ipynb) provided. <br>\n",
    "\n",
    "Author(s): \n",
    "* María Reyes Retana, Consultant SCL, mariarey@iadb.org <br>\n",
    "* Laura Goyeneche, Consultant SPH, lauragoy@iadb.org <br> \n",
    "\n",
    "Created: April 1, 2023"
   ]
  },
  {
   "cell_type": "markdown",
   "id": "d418b07a",
   "metadata": {},
   "source": [
    "## 1. Basics"
   ]
  },
  {
   "cell_type": "code",
   "execution_count": 1,
   "id": "56a9d6ff",
   "metadata": {},
   "outputs": [],
   "source": [
    "%%capture\n",
    "# Libraries\n",
    "import os\n",
    "import dotenv\n",
    "import numpy as np\n",
    "import pandas as pd\n",
    "import geopandas as gpd\n",
    "from shapely import wkt\n",
    "import matplotlib.pyplot as plt\n",
    "\n",
    "# Modules\n",
    "from utils import *"
   ]
  },
  {
   "cell_type": "code",
   "execution_count": 3,
   "id": "8e3056da",
   "metadata": {},
   "outputs": [],
   "source": [
    "%%capture \n",
    "# Working environments\n",
    "dotenv.load_dotenv('/home/ec2-user/SageMaker/.env')\n",
    "sclbucket   = os.getenv(\"sclbucket\")\n",
    "scldatalake = os.getenv(\"scldatalake\")"
   ]
  },
  {
   "cell_type": "markdown",
   "id": "84a327f4",
   "metadata": {},
   "source": [
    "## 2. Inputs"
   ]
  },
  {
   "cell_type": "code",
   "execution_count": 4,
   "id": "37d2e684",
   "metadata": {},
   "outputs": [],
   "source": [
    "# Administrative shapefiles\n",
    "adm0 = get_country_shp(level = 0)\n",
    "adm1 = get_country_shp(level = 1)\n",
    "adm2 = get_country_shp(level = 2)"
   ]
  },
  {
   "cell_type": "markdown",
   "id": "ce4f326e",
   "metadata": {},
   "source": [
    "## 3. Connectivity"
   ]
  },
  {
   "cell_type": "markdown",
   "id": "e4e7d4d5",
   "metadata": {},
   "source": [
    "### 3.1. Extract tiles "
   ]
  },
  {
   "cell_type": "code",
   "execution_count": 5,
   "id": "18b13508",
   "metadata": {},
   "outputs": [],
   "source": [
    "# Inputs \n",
    "year    = 2023\n",
    "quarter = 2"
   ]
  },
  {
   "cell_type": "code",
   "execution_count": 6,
   "id": "2f7db696",
   "metadata": {},
   "outputs": [],
   "source": [
    "# URL\n",
    "fixed  = get_tile_url(\"fixed\" , year, quarter)\n",
    "mobile = get_tile_url(\"mobile\", year, quarter)"
   ]
  },
  {
   "cell_type": "code",
   "execution_count": 7,
   "id": "82123472",
   "metadata": {},
   "outputs": [],
   "source": [
    "# Extract data\n",
    "fixed  = gpd.read_file(fixed)\n",
    "mobile = gpd.read_file(mobile)"
   ]
  },
  {
   "cell_type": "code",
   "execution_count": 8,
   "id": "841d405e",
   "metadata": {},
   "outputs": [],
   "source": [
    "# Export world-level data \n",
    "fixed .to_file(f\"../data/3-connectivity/tiles-level/world/fixed_connectivity_{year}_{quarter}.shp\" )\n",
    "mobile.to_file(f\"../data/3-connectivity/tiles-level/world/mobile_connectivity_{year}_{quarter}.shp\")"
   ]
  },
  {
   "cell_type": "markdown",
   "id": "43fc0311",
   "metadata": {},
   "source": [
    "### 3.2. LAC-26 tiles"
   ]
  },
  {
   "cell_type": "code",
   "execution_count": null,
   "id": "f1593bde",
   "metadata": {},
   "outputs": [],
   "source": [
    "# Select points in LAC-26 \n",
    "fixed_  = gpd.sjoin(fixed , adm0)\n",
    "mobile_ = gpd.sjoin(mobile, adm0)"
   ]
  },
  {
   "cell_type": "code",
   "execution_count": null,
   "id": "462ba54e",
   "metadata": {},
   "outputs": [],
   "source": [
    "%%capture\n",
    "# Create lat-lon \n",
    "fixed_ ['lon'] = fixed_ .centroid.x\n",
    "fixed_ ['lat'] = fixed_ .centroid.y\n",
    "mobile_['lon'] = mobile_.centroid.x\n",
    "mobile_['lat'] = mobile_.centroid.y"
   ]
  },
  {
   "cell_type": "code",
   "execution_count": null,
   "id": "9117bba7",
   "metadata": {},
   "outputs": [],
   "source": [
    "# Change units \n",
    "fixed_ ['avg_d_mbps'] = fixed_ ['avg_d_kbps'] / 1000\n",
    "fixed_ ['avg_u_mbps'] = fixed_ ['avg_u_kbps'] / 1000\n",
    "mobile_['avg_d_mbps'] = mobile_['avg_d_kbps'] / 1000\n",
    "mobile_['avg_u_mbps'] = mobile_['avg_u_kbps'] / 1000"
   ]
  },
  {
   "cell_type": "code",
   "execution_count": null,
   "id": "ffcf1ea1",
   "metadata": {},
   "outputs": [],
   "source": [
    "# Drop index_right\n",
    "fixed_  = fixed_ .drop(columns = \"index_right\")\n",
    "mobile_ = mobile_.drop(columns = \"index_right\")"
   ]
  },
  {
   "cell_type": "code",
   "execution_count": null,
   "id": "52725587",
   "metadata": {},
   "outputs": [],
   "source": [
    "%%capture \n",
    "# Export data\n",
    "fixed_ .to_file(f\"../data/3-connectivity/tiles-level/lac-26/fixed_connectivity_{year}_q{quarter}.shp\" )\n",
    "mobile_.to_file(f\"../data/3-connectivity/tiles-level/lac-26/mobile_connectivity_{year}_q{quarter}.shp\")"
   ]
  },
  {
   "cell_type": "markdown",
   "id": "2b273ef2",
   "metadata": {},
   "source": [
    "### 3.3. Average admin-level 1"
   ]
  },
  {
   "cell_type": "code",
   "execution_count": 18,
   "id": "5ac34377",
   "metadata": {},
   "outputs": [],
   "source": [
    "# Select points in admin level 1\n",
    "fix_adm1 = gpd.sjoin(fixed_ , adm1)\n",
    "mob_adm1 = gpd.sjoin(mobile_, adm1)"
   ]
  },
  {
   "cell_type": "code",
   "execution_count": 22,
   "id": "e2b8284b",
   "metadata": {},
   "outputs": [],
   "source": [
    "# Remove columns\n",
    "fix_adm1 = fix_adm1.drop(columns = [\"index_right\",\"ADM0_EN_right\",\"ADM0_PCODE_right\"])\n",
    "mob_adm1 = mob_adm1.drop(columns = [\"index_right\",\"ADM0_EN_right\",\"ADM0_PCODE_right\"])"
   ]
  },
  {
   "cell_type": "code",
   "execution_count": 24,
   "id": "1e890d35",
   "metadata": {},
   "outputs": [],
   "source": [
    "# Calculate fixed averages\n",
    "fix_adm1 = fix_adm1[[\"ADM1_PCODE\",\"avg_d_mbps\",\"avg_u_mbps\",\"tests\"]]\n",
    "fix_adm1 = calculate_stats(fix_adm1, [\"ADM1_PCODE\"])\n",
    "fix_adm1 = fix_adm1.drop(columns = \"tests\")\n",
    "fix_adm1 = adm1.drop(columns = \"geometry\").merge(fix_adm1, on = \"ADM1_PCODE\", how = \"left\")"
   ]
  },
  {
   "cell_type": "code",
   "execution_count": 26,
   "id": "98930896",
   "metadata": {},
   "outputs": [],
   "source": [
    "# Calculate mobile averages\n",
    "mob_adm1 = mob_adm1[[\"ADM1_PCODE\",\"avg_d_mbps\",\"avg_u_mbps\",\"tests\"]]\n",
    "mob_adm1 = calculate_stats(mob_adm1, [\"ADM1_PCODE\"])\n",
    "mob_adm1 = mob_adm1.drop(columns = \"tests\")\n",
    "mob_adm1 = adm1.drop(columns = \"geometry\").merge(mob_adm1, on = \"ADM1_PCODE\", how = \"left\")"
   ]
  },
  {
   "cell_type": "code",
   "execution_count": 27,
   "id": "6337609c",
   "metadata": {},
   "outputs": [],
   "source": [
    "# Export data\n",
    "fix_adm1.to_csv(f\"../data/3-connectivity/admin-level/fixed_connectivity_adm1_{year}_q{quarter}.csv\")\n",
    "mob_adm1.to_csv(f\"../data/3-connectivity/admin-level/mobile_connectivity_adm1_{year}_q{quarter}.csv\")"
   ]
  },
  {
   "cell_type": "markdown",
   "id": "2190ad5f",
   "metadata": {},
   "source": [
    "### 3.4. Average admin-level 2"
   ]
  },
  {
   "cell_type": "code",
   "execution_count": 28,
   "id": "44eb8ac1",
   "metadata": {},
   "outputs": [],
   "source": [
    "# Select points in admin level 1\n",
    "fix_adm2 = gpd.sjoin(fixed_ , adm2)\n",
    "mob_adm2 = gpd.sjoin(mobile_, adm2)"
   ]
  },
  {
   "cell_type": "code",
   "execution_count": 30,
   "id": "4c106538",
   "metadata": {},
   "outputs": [],
   "source": [
    "# Remove columns\n",
    "fix_adm2 = fix_adm2.drop(columns = [\"index_right\",\"ADM0_EN_right\",\"ADM0_PCODE_right\"])\n",
    "mob_adm2 = mob_adm2.drop(columns = [\"index_right\",\"ADM0_EN_right\",\"ADM0_PCODE_right\"])"
   ]
  },
  {
   "cell_type": "code",
   "execution_count": 34,
   "id": "2e187d5a",
   "metadata": {},
   "outputs": [],
   "source": [
    "# Calculate fixed averages\n",
    "fix_adm2 = fix_adm2[[\"ADM2_PCODE\",\"avg_d_mbps\",\"avg_u_mbps\",\"tests\"]]\n",
    "fix_adm2 = calculate_stats(fix_adm2, [\"ADM2_PCODE\"])\n",
    "fix_adm2 = fix_adm2.drop(columns = \"tests\")\n",
    "fix_adm2 = adm2.drop(columns = \"geometry\").merge(fix_adm2, on = \"ADM2_PCODE\", how = \"left\")"
   ]
  },
  {
   "cell_type": "code",
   "execution_count": 36,
   "id": "0248325e",
   "metadata": {},
   "outputs": [],
   "source": [
    "# Calculate mobile averages\n",
    "mob_adm2 = mob_adm2[[\"ADM2_PCODE\",\"avg_d_mbps\",\"avg_u_mbps\",\"tests\"]]\n",
    "mob_adm2 = calculate_stats(mob_adm2, [\"ADM2_PCODE\"])\n",
    "mob_adm2 = mob_adm2.drop(columns = \"tests\")\n",
    "mob_adm2 = adm2.drop(columns = \"geometry\").merge(mob_adm2, on = \"ADM2_PCODE\", how = \"left\")"
   ]
  },
  {
   "cell_type": "code",
   "execution_count": 37,
   "id": "6f1d59ef",
   "metadata": {},
   "outputs": [],
   "source": [
    "# Export data\n",
    "fix_adm2.to_csv(f\"../data/3-connectivity/admin-level/fixed_connectivity_adm2_{year}_q{quarter}.csv\")\n",
    "mob_adm2.to_csv(f\"../data/3-connectivity/admin-level/mobile_connectivity_adm2_{year}_q{quarter}.csv\")"
   ]
  }
 ],
 "metadata": {
  "kernelspec": {
   "display_name": "conda_python3",
   "language": "python",
   "name": "conda_python3"
  },
  "language_info": {
   "codemirror_mode": {
    "name": "ipython",
    "version": 3
   },
   "file_extension": ".py",
   "mimetype": "text/x-python",
   "name": "python",
   "nbconvert_exporter": "python",
   "pygments_lexer": "ipython3",
   "version": "3.6.13"
  }
 },
 "nbformat": 4,
 "nbformat_minor": 5
}
