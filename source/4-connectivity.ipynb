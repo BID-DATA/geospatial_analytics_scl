{
 "cells": [
  {
   "cell_type": "markdown",
   "id": "4eee8350",
   "metadata": {},
   "source": [
    "# Connectivity data\n",
    "\n",
    "**Objetive:** <br> \n",
    "The following notebook gathers connectivity information from Ookla's speedtest API based on [Ookla's Open Data Initiative](https://github.com/teamookla/ookla-open-data) GitHub repository and the [tutorials](https://github.com/teamookla/ookla-open-data/blob/master/tutorials/aggregate_by_county_py.ipynb) provided. <br>\n",
    "\n",
    "Author(s): \n",
    "* María Reyes Retana, Consultant SCL, mariarey@iadb.org <br>\n",
    "* Laura Goyeneche, Consultant SPH, lauragoy@iadb.org <br> \n",
    "\n",
    "Created: April 1, 2023"
   ]
  },
  {
   "cell_type": "markdown",
   "id": "fef170ee",
   "metadata": {},
   "source": [
    "## 1. Basics"
   ]
  },
  {
   "cell_type": "code",
   "execution_count": 1,
   "id": "7137a505",
   "metadata": {},
   "outputs": [],
   "source": [
    "%%capture\n",
    "# Libraries\n",
    "import os\n",
    "import dotenv\n",
    "import numpy as np\n",
    "import pandas as pd\n",
    "import geopandas as gpd\n",
    "from shapely import wkt\n",
    "import matplotlib.pyplot as plt\n",
    "\n",
    "# Modules\n",
    "from utils import *"
   ]
  },
  {
   "cell_type": "code",
   "execution_count": 3,
   "id": "ffb26083",
   "metadata": {},
   "outputs": [],
   "source": [
    "%%capture \n",
    "# Working environments\n",
    "dotenv.load_dotenv('/home/ec2-user/SageMaker/.env')\n",
    "sclbucket   = os.getenv(\"sclbucket\")\n",
    "scldatalake = os.getenv(\"scldatalake\")"
   ]
  },
  {
   "cell_type": "markdown",
   "id": "034c799f",
   "metadata": {},
   "source": [
    "## 2. Inputs"
   ]
  },
  {
   "cell_type": "code",
   "execution_count": 4,
   "id": "90cb2b34",
   "metadata": {},
   "outputs": [],
   "source": [
    "# Administrative shapefiles\n",
    "adm0 = get_country_shp(level = 0)\n",
    "adm1 = get_country_shp(level = 1)\n",
    "adm2 = get_country_shp(level = 2)"
   ]
  },
  {
   "cell_type": "markdown",
   "id": "ae1482b6",
   "metadata": {},
   "source": [
    "## 3. Connectivity"
   ]
  },
  {
   "cell_type": "markdown",
   "id": "145679f5",
   "metadata": {},
   "source": [
    "### 3.1. Extract tiles "
   ]
  },
  {
   "cell_type": "code",
   "execution_count": 5,
   "id": "edd05fce",
   "metadata": {},
   "outputs": [],
   "source": [
    "# Inputs \n",
    "year    = 2023\n",
    "quarter = 2"
   ]
  },
  {
   "cell_type": "code",
   "execution_count": 6,
   "id": "efd23c78",
   "metadata": {},
   "outputs": [],
   "source": [
    "# URL\n",
    "fixed  = get_tile_url(\"fixed\" , year, quarter)\n",
    "mobile = get_tile_url(\"mobile\", year, quarter)"
   ]
  },
  {
   "cell_type": "code",
   "execution_count": 7,
   "id": "ef10d486",
   "metadata": {},
   "outputs": [],
   "source": [
    "# Extract data\n",
    "fixed  = gpd.read_file(fixed)\n",
    "mobile = gpd.read_file(mobile)"
   ]
  },
  {
   "cell_type": "code",
   "execution_count": null,
   "id": "76cc54b5",
   "metadata": {},
   "outputs": [],
   "source": [
    "# Export world-level data \n",
    "fixed .to_file(f\"../data/3-connectivity/tiles-level/world/fixed_connectivity_{year}_{quarter}.shp\" )\n",
    "mobile.to_file(f\"../data/3-connectivity/tiles-level/world/mobile_connectivity_{year}_{quarter}.shp\")"
   ]
  },
  {
   "cell_type": "markdown",
   "id": "9e6a99cf",
   "metadata": {},
   "source": [
    "### 3.2. LAC-26 tiles"
   ]
  },
  {
   "cell_type": "code",
   "execution_count": null,
   "id": "9d297faf",
   "metadata": {},
   "outputs": [],
   "source": [
    "# Select points in LAC-26 \n",
    "fixed_  = gpd.sjoin(fixed , adm0)\n",
    "mobile_ = gpd.sjoin(mobile, adm0)"
   ]
  },
  {
   "cell_type": "code",
   "execution_count": null,
   "id": "5647588f",
   "metadata": {},
   "outputs": [],
   "source": [
    "%%capture\n",
    "# Create lat-lon \n",
    "fixed_ ['lon'] = fixed_ .centroid.x\n",
    "fixed_ ['lat'] = fixed_ .centroid.y\n",
    "mobile_['lon'] = mobile_.centroid.x\n",
    "mobile_['lat'] = mobile_.centroid.y"
   ]
  },
  {
   "cell_type": "code",
   "execution_count": null,
   "id": "9314829f",
   "metadata": {},
   "outputs": [],
   "source": [
    "# Change units \n",
    "fixed_ ['avg_d_mbps'] = fixed_ ['avg_d_kbps'] / 1000\n",
    "fixed_ ['avg_u_mbps'] = fixed_ ['avg_u_kbps'] / 1000\n",
    "mobile_['avg_d_mbps'] = mobile_['avg_d_kbps'] / 1000\n",
    "mobile_['avg_u_mbps'] = mobile_['avg_u_kbps'] / 1000"
   ]
  },
  {
   "cell_type": "code",
   "execution_count": null,
   "id": "0d53c386",
   "metadata": {},
   "outputs": [],
   "source": [
    "# Drop index_right\n",
    "fixed_  = fixed_ .drop(columns = \"index_right\")\n",
    "mobile_ = mobile_.drop(columns = \"index_right\")"
   ]
  },
  {
   "cell_type": "code",
   "execution_count": null,
   "id": "23dedefe",
   "metadata": {},
   "outputs": [],
   "source": [
    "%%capture \n",
    "# Export data\n",
    "fixed_ .to_file(f\"../data/3-connectivity/tiles-level/lac-26/fixed_connectivity_{year}_{quarter}1.shp\" )\n",
    "mobile_.to_file(f\"../data/3-connectivity/tiles-level/lac-26/mobile_connectivity_{year}_{quarter}.shp\")"
   ]
  },
  {
   "cell_type": "markdown",
   "id": "c46e8539",
   "metadata": {},
   "source": [
    "### 3.3. Average admin-level 1"
   ]
  },
  {
   "cell_type": "code",
   "execution_count": null,
   "id": "b6e4d31f",
   "metadata": {},
   "outputs": [],
   "source": [
    "# Select points in admin level 1\n",
    "fix_adm1 = gpd.sjoin(fixed_ , adm1)\n",
    "mob_adm1 = gpd.sjoin(mobile_, adm1)"
   ]
  },
  {
   "cell_type": "code",
   "execution_count": null,
   "id": "e229ae97",
   "metadata": {},
   "outputs": [],
   "source": [
    "# Remove columns\n",
    "fix_adm1 = fix_adm1.drop(columns = \"index_right\")\n",
    "mob_adm1 = mob_adm1.drop(columns = \"index_right\")"
   ]
  },
  {
   "cell_type": "code",
   "execution_count": null,
   "id": "b66af131",
   "metadata": {},
   "outputs": [],
   "source": [
    "# Calculate fixed averages\n",
    "fix_adm1 = fix_adm1[[\"ADM1_PCODE\",\"avg_d_mbps\",\"avg_u_mbps\",\"tests\"]]\n",
    "fix_adm1 = calculate_stats(fix_adm1, [\"ADM1_PCODE\"])\n",
    "fix_adm1 = fix_adm1.drop(columns = \"tests\")\n",
    "fix_adm1 = adm1.drop(columns = \"geometry\").merge(fix_adm1, on = \"ADM1_PCODE\", how = \"left\")"
   ]
  },
  {
   "cell_type": "code",
   "execution_count": null,
   "id": "007ab97d",
   "metadata": {},
   "outputs": [],
   "source": [
    "# Calculate mobile averages\n",
    "mob_adm1 = mob_adm1[[\"ADM1_PCODE\",\"avg_d_mbps\",\"avg_u_mbps\",\"tests\"]]\n",
    "mob_adm1 = calculate_stats(mob_adm1, [\"ADM1_PCODE\"])\n",
    "mob_adm1 = mob_adm1.drop(columns = \"tests\")\n",
    "mob_adm1 = adm1.drop(columns = \"geometry\").merge(mob_adm1, on = \"ADM1_PCODE\", how = \"left\")"
   ]
  },
  {
   "cell_type": "code",
   "execution_count": null,
   "id": "05263c5f",
   "metadata": {},
   "outputs": [],
   "source": [
    "# Export data\n",
    "fix_adm1.to_csv(f\"../data/3-connectivity/admin-level/mobile_connectivity_adm1_{year}_{quarter}.csv\")\n",
    "mob_adm1.to_csv(f\"../data/3-connectivity/admin-level/mobile_connectivity_adm1_{year}_{quarter}.csv\")"
   ]
  },
  {
   "cell_type": "markdown",
   "id": "3c2dec03",
   "metadata": {},
   "source": [
    "### 3.4. Average admin-level 2"
   ]
  },
  {
   "cell_type": "code",
   "execution_count": null,
   "id": "b55a4b0d",
   "metadata": {},
   "outputs": [],
   "source": [
    "# Select points in admin level 1\n",
    "fix_adm2 = gpd.sjoin(fixed_ , adm2)\n",
    "mob_adm2 = gpd.sjoin(mobile_, adm2)"
   ]
  },
  {
   "cell_type": "code",
   "execution_count": null,
   "id": "708ad0c6",
   "metadata": {},
   "outputs": [],
   "source": [
    "# Remove columns\n",
    "fix_adm2 = fix_adm2.drop(columns = \"index_right\")\n",
    "mob_adm2 = mob_adm2.drop(columns = \"index_right\")"
   ]
  },
  {
   "cell_type": "code",
   "execution_count": null,
   "id": "6c140ac6",
   "metadata": {},
   "outputs": [],
   "source": [
    "# Calculate fixed averages\n",
    "fix_adm2 = fix_adm2[[\"ADM1_PCODE\",\"avg_d_mbps\",\"avg_u_mbps\",\"tests\"]]\n",
    "fix_adm2 = calculate_stats(fix_adm2, [\"ADM1_PCODE\"])\n",
    "fix_adm2 = fix_adm2.drop(columns = \"tests\")\n",
    "fix_adm2 = adm2.drop(columns = \"geometry\").merge(fix_adm2, on = \"ADM1_PCODE\", how = \"left\")"
   ]
  },
  {
   "cell_type": "code",
   "execution_count": null,
   "id": "737bfd9f",
   "metadata": {},
   "outputs": [],
   "source": [
    "# Calculate mobile averages\n",
    "mob_adm2 = mob_adm2[[\"ADM1_PCODE\",\"avg_d_mbps\",\"avg_u_mbps\",\"tests\"]]\n",
    "mob_adm2 = calculate_stats(mob_adm2, [\"ADM1_PCODE\"])\n",
    "mob_adm2 = mob_adm2.drop(columns = \"tests\")\n",
    "mob_adm2 = adm2.drop(columns = \"geometry\").merge(mob_adm2, on = \"ADM1_PCODE\", how = \"left\")"
   ]
  },
  {
   "cell_type": "code",
   "execution_count": null,
   "id": "1427317a",
   "metadata": {},
   "outputs": [],
   "source": [
    "# Export data\n",
    "fix_adm2.to_csv(f\"../data/3-connectivity/admin-level/mobile_connectivity_adm2_{year}_{quarter}.csv\")\n",
    "mob_adm2.to_csv(f\"../data/3-connectivity/admin-level/mobile_connectivity_adm2_{year}_{quarter}.csv\")"
   ]
  }
 ],
 "metadata": {
  "kernelspec": {
   "display_name": "conda_python3",
   "language": "python",
   "name": "conda_python3"
  },
  "language_info": {
   "codemirror_mode": {
    "name": "ipython",
    "version": 3
   },
   "file_extension": ".py",
   "mimetype": "text/x-python",
   "name": "python",
   "nbconvert_exporter": "python",
   "pygments_lexer": "ipython3",
   "version": "3.6.13"
  }
 },
 "nbformat": 4,
 "nbformat_minor": 5
}
