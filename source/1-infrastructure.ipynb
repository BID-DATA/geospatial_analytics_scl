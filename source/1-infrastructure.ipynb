{
 "cells": [
  {
   "cell_type": "markdown",
   "id": "556e5340",
   "metadata": {},
   "source": [
    "# Isochrones\n",
    "\n",
    "**Objetive:** <br>\n",
    "The following notebook shows the step-by-step to creates a dataset with social infrastructure in LAC from official and public records. Public records include data from [Open Street Maps](https://www.openstreetmap.org/).<br>\n",
    "\n",
    "Author: Laura Goyeneche, Consultant SPH, lauragoy@iadb.org <br>\n",
    "Created: March 20, 2023"
   ]
  },
  {
   "cell_type": "markdown",
   "id": "c26546a8",
   "metadata": {},
   "source": [
    "## 1. Basics"
   ]
  },
  {
   "cell_type": "code",
   "execution_count": 1,
   "id": "5baf698a",
   "metadata": {},
   "outputs": [],
   "source": [
    "%%capture\n",
    "# Libraries\n",
    "import io\n",
    "import os \n",
    "import re\n",
    "import time\n",
    "import boto3\n",
    "import dotenv\n",
    "import requests\n",
    "import numpy as np\n",
    "import pandas as pd\n",
    "import geopandas as gpd\n",
    "from bs4 import BeautifulSoup\n",
    "import matplotlib.pyplot as plt\n",
    "from geopandas.tools import sjoin\n",
    "from OSMPythonTools.overpass import Overpass, overpassQueryBuilder\n",
    "import overpy\n",
    "\n",
    "# Modules\n",
    "from utils import get_iadb"
   ]
  },
  {
   "cell_type": "code",
   "execution_count": 2,
   "id": "ce2bd9f3",
   "metadata": {},
   "outputs": [],
   "source": [
    "# Working environments\n",
    "dotenv.load_dotenv(\"/home/ec2-user/SageMaker/.env\")\n",
    "sclbucket   = os.environ.get(\"sclbucket\")\n",
    "scldatalake = os.environ.get(\"scldatalake\")"
   ]
  },
  {
   "cell_type": "code",
   "execution_count": 3,
   "id": "e88fb325",
   "metadata": {},
   "outputs": [],
   "source": [
    "%%capture \n",
    "# Resources and buckets\n",
    "s3        = boto3.client('s3')\n",
    "s3_       = boto3.resource(\"s3\")\n",
    "s3_bucket = s3_.Bucket(sclbucket)"
   ]
  },
  {
   "cell_type": "markdown",
   "id": "9c2ba0ae",
   "metadata": {},
   "source": [
    "## 2. Inputs"
   ]
  },
  {
   "cell_type": "code",
   "execution_count": 4,
   "id": "73275298",
   "metadata": {},
   "outputs": [],
   "source": [
    "# Country names \n",
    "data = get_iadb()"
   ]
  },
  {
   "cell_type": "markdown",
   "id": "6d944a85",
   "metadata": {},
   "source": [
    "## 3. OSM amenities"
   ]
  },
  {
   "cell_type": "code",
   "execution_count": 5,
   "id": "cdd03913",
   "metadata": {},
   "outputs": [],
   "source": [
    "# Initialize Overpass API\n",
    "api = overpy.Overpass()"
   ]
  },
  {
   "cell_type": "markdown",
   "id": "e5a97c37",
   "metadata": {},
   "source": [
    "### 3.1. Financial"
   ]
  },
  {
   "cell_type": "code",
   "execution_count": 14,
   "id": "700c3f4e",
   "metadata": {},
   "outputs": [],
   "source": [
    "# Set parameters for the query\n",
    "isoalpha3 = \"COL\"\n",
    "amenity   = \"atm\"\n",
    "\n",
    "# Define the query for fetching data for ATMs in Colombia\n",
    "query = f'''\n",
    "        area[\"ISO3166-1:alpha3\"=\"{isoalpha3}\"]->.a;\n",
    "        ( node(area.a)[amenity={amenity}];\n",
    "          way(area.a)[amenity={amenity}];\n",
    "          rel(area.a)[amenity={amenity}];);\n",
    "        out center;\n",
    "        '''\n",
    "\n",
    "# Execute the query\n",
    "r = api.query(query)\n",
    "\n",
    "# Extract coordinates and metadata for nodes, ways, and relations\n",
    "    # Coordinates\n",
    "coords_node     = pd.DataFrame([{'id': node.id    , 'lon': node.lon           , 'lat': node.lat}            for node     in r.nodes]).reset_index()\n",
    "coords_way      = pd.DataFrame([{'id': way.id     , 'lon': way.center_lon     , 'lat': way.center_lat}      for way      in r.ways]).reset_index()\n",
    "coords_relation = pd.DataFrame([{'id': relation.id, 'lon': relation.center_lon, 'lat': relation.center_lat} for relation in r.relations]).reset_index()\n",
    "    \n",
    "    # Metadata\n",
    "metadata_node     = pd.DataFrame([node.tags     for node     in r.nodes]).reset_index()\n",
    "metadata_way      = pd.DataFrame([way.tags      for way      in r.ways]).reset_index()\n",
    "metadata_relation = pd.DataFrame([relation.tags for relation in r.relations]).reset_index()\n",
    "\n",
    "# Merge coordinates and metadata for nodes, ways, and relations\n",
    "output_node     = coords_node.merge(metadata_node, on = 'index').drop('index', axis = 1)\n",
    "output_way      = coords_way.merge(metadata_way, on = 'index').drop('index', axis = 1)\n",
    "output_relation = coords_relation.merge(metadata_relation, on = 'index').drop('index', axis = 1)\n",
    "\n",
    "# Combine the results into a single DataFrame\n",
    "output_tot_atm = pd.concat([output_node, output_way, output_relation])"
   ]
  },
  {
   "cell_type": "markdown",
   "id": "424b5977",
   "metadata": {},
   "source": [
    "### 3.2. Healthcare"
   ]
  },
  {
   "cell_type": "code",
   "execution_count": 16,
   "id": "5c4e2cbf",
   "metadata": {},
   "outputs": [],
   "source": [
    "# Set parameters for the query\n",
    "isoalpha3 = \"COL\"\n",
    "amenity   = \"hospital\"\n",
    "\n",
    "# Define the query for fetching data related to hospitals in Colombia\n",
    "query = f'''\n",
    "        area[\"ISO3166-1:alpha3\"=\"{isoalpha3}\"]->.a;\n",
    "        ( node(area.a)[amenity={amenity}];\n",
    "          way(area.a)[amenity={amenity}];\n",
    "          rel(area.a)[amenity={amenity}];);\n",
    "        out center;\n",
    "        '''\n",
    "\n",
    "# Execute the query\n",
    "r = api.query(query)\n",
    "\n",
    "# Extract coordinates and metadata for nodes, ways, and relations\n",
    "    # Coordinates\n",
    "coords_node     = pd.DataFrame([{'id': node.id    , 'lon': node.lon           , 'lat': node.lat}            for node in r.nodes]).reset_index()\n",
    "coords_way      = pd.DataFrame([{'id': way.id     , 'lon': way.center_lon     , 'lat': way.center_lat}      for way in r.ways]).reset_index()\n",
    "coords_relation = pd.DataFrame([{'id': relation.id, 'lon': relation.center_lon, 'lat': relation.center_lat} for relation in r.relations]).reset_index()\n",
    "\n",
    "    # Metadata\n",
    "metadata_node     = pd.DataFrame([node.tags     for node     in r.nodes]).reset_index()\n",
    "metadata_way      = pd.DataFrame([way.tags      for way      in r.ways]).reset_index()\n",
    "metadata_relation = pd.DataFrame([relation.tags for relation in r.relations]).reset_index()\n",
    "\n",
    "# Merge coordinates and metadata for nodes, ways, and relations\n",
    "output_node     = coords_node.merge(metadata_node, on = 'index').drop('index', axis = 1)\n",
    "output_way      = coords_way.merge(metadata_way, on = 'index').drop('index', axis = 1)\n",
    "output_relation = coords_relation.merge(metadata_relation, on = 'index').drop('index', axis = 1)\n",
    "\n",
    "# Combine the results into a single DataFrame\n",
    "output_tot_hospitals = pd.concat([output_node, output_way, output_relation])"
   ]
  },
  {
   "cell_type": "markdown",
   "id": "cfe09490",
   "metadata": {},
   "source": [
    "## 4. Master tables"
   ]
  },
  {
   "cell_type": "markdown",
   "id": "28add740",
   "metadata": {},
   "source": [
    "###  4.1. Financial"
   ]
  },
  {
   "cell_type": "code",
   "execution_count": 6,
   "id": "ee3f41c1",
   "metadata": {},
   "outputs": [],
   "source": [
    "# Files in financial bucket\n",
    "path  = \"Geospatial infrastructure/Financial infrastructure\"\n",
    "files = [file.key.split(path + \"/\")[1] for file in s3_bucket.objects.filter(Prefix=path).all()]\n",
    "\n",
    "# Identify records by categories\n",
    "official = [file for file in files if \"official\" in file]\n",
    "public   = [file for file in files if \"OSM\"      in file]\n",
    "\n",
    "# Create master table \n",
    "financial_inf = []"
   ]
  },
  {
   "cell_type": "markdown",
   "id": "855ddcf6",
   "metadata": {},
   "source": [
    "#### 4.1.1. Process official records"
   ]
  },
  {
   "cell_type": "code",
   "execution_count": 7,
   "id": "610af5d8",
   "metadata": {},
   "outputs": [],
   "source": [
    "# Identify country names with official records\n",
    "off_name = list(set([file.split(\"/\")[1] for file in official]))"
   ]
  },
  {
   "cell_type": "markdown",
   "id": "bd45894c",
   "metadata": {},
   "source": [
    "#### 4.1.2. Process OSM records"
   ]
  },
  {
   "cell_type": "code",
   "execution_count": 8,
   "id": "1b512ca6",
   "metadata": {},
   "outputs": [],
   "source": [
    "# Import data\n",
    "file_  = [file for file in public if \"OSM\" in file]\n",
    "for file in file_:\n",
    "    path_ = f\"{scldatalake}{path}/{file}\"\n",
    "    file  = pd.read_csv(path_, low_memory = False)\n",
    "\n",
    "    # Keep IADB countries\n",
    "    file = file[file.isoalpha3.isin(data.isoalpha3.unique())]\n",
    "\n",
    "    # Keeps countries without official or healthsites.io records\n",
    "    file = file[~file.isoalpha3.isin(off_name)]\n",
    "\n",
    "    # Create variables\n",
    "    file['source']    = \"OSM\"\n",
    "    file['source_id'] = file.id\n",
    "\n",
    "    # Keep variables of interest\n",
    "    file = file[['isoalpha3','source','source_id','amenity','name','lat','lon']]\n",
    "\n",
    "    # Add to master table\n",
    "    financial_inf.append(file)"
   ]
  },
  {
   "cell_type": "markdown",
   "id": "8a177a2c",
   "metadata": {},
   "source": [
    "#### 4.1.3. Master table"
   ]
  },
  {
   "cell_type": "code",
   "execution_count": 9,
   "id": "cfa63076",
   "metadata": {},
   "outputs": [],
   "source": [
    "# Generate master table \n",
    "financial = pd.concat(financial_inf)\n",
    "financial = financial.reset_index(drop = True)"
   ]
  },
  {
   "cell_type": "code",
   "execution_count": 10,
   "id": "6c046b4b",
   "metadata": {},
   "outputs": [],
   "source": [
    "%%capture\n",
    "# Export to Data Lake \n",
    "path = scldatalake + f\"{path}/financial_facilities.csv\"\n",
    "financial.to_csv(path, compression = 'gzip')"
   ]
  },
  {
   "cell_type": "code",
   "execution_count": 11,
   "id": "6893c6f6",
   "metadata": {},
   "outputs": [],
   "source": [
    "# Temporary \n",
    "# TODO: erase once IT fix problem\n",
    "financial.to_csv(f\"../data/0-raw/infrastructure/financial_facilities.csv\")"
   ]
  },
  {
   "cell_type": "markdown",
   "id": "0dcb76dc",
   "metadata": {},
   "source": [
    "###  4.2. Health"
   ]
  },
  {
   "cell_type": "code",
   "execution_count": 24,
   "id": "a3b09a0e",
   "metadata": {},
   "outputs": [],
   "source": [
    "# Files in financial bucket\n",
    "path  = \"Geospatial infrastructure/Healthcare Facilities\"\n",
    "files = [file.key.split(path + \"/\")[1] for file in s3_bucket.objects.filter(Prefix=path).all()]\n",
    "\n",
    "# Identify records by categories\n",
    "official = [file for file in files if \"official\"    in file]\n",
    "public   = [file for file in files if \"healthsites\" in file or \"OSM\" in file]\n",
    "\n",
    "# Create master table \n",
    "healthcare_inf = []"
   ]
  },
  {
   "cell_type": "markdown",
   "id": "28b94c4d",
   "metadata": {},
   "source": [
    "#### 4.2.1. Process official records"
   ]
  },
  {
   "cell_type": "code",
   "execution_count": 25,
   "id": "7e0da302",
   "metadata": {},
   "outputs": [],
   "source": [
    "# Identify country names with official records\n",
    "off_name = list(set([file.split(\"/\")[1] for file in official]))"
   ]
  },
  {
   "cell_type": "markdown",
   "id": "13fc9ede",
   "metadata": {},
   "source": [
    "##### Argentina"
   ]
  },
  {
   "cell_type": "code",
   "execution_count": 26,
   "id": "f8adf6ea",
   "metadata": {},
   "outputs": [],
   "source": [
    "# Import data\n",
    "file  = [file for file in official if \"ARG\" in file][0]\n",
    "path_ = f\"{scldatalake}{path}/{file}\"\n",
    "file  = pd.read_csv(path_)\n",
    "\n",
    "# Create variables\n",
    "file['isoalpha3'] = \"ARG\"\n",
    "file['source']    = \"Ministry of Health\"\n",
    "file['source_id'] = file.establecimiento_id\n",
    "file['amenity']   = \"hospital\"\n",
    "file['name']      = file.establecimiento_nombre\n",
    "file['lat']       = file.y\n",
    "file['lon']       = file.x\n",
    "\n",
    "# Keep variables of interest\n",
    "file = file[file.columns[-7::]]\n",
    "\n",
    "# Add to master table\n",
    "healthcare_inf.append(file)"
   ]
  },
  {
   "cell_type": "markdown",
   "id": "e4777375",
   "metadata": {},
   "source": [
    "##### Brasil"
   ]
  },
  {
   "cell_type": "code",
   "execution_count": 27,
   "id": "b25d358e",
   "metadata": {},
   "outputs": [],
   "source": [
    "%%capture\n",
    "# Import data\n",
    "file  = [file for file in official if \"BRA\" in file][0]\n",
    "path_ = f\"{scldatalake}{path}/{file}\"\n",
    "file  = pd.read_csv(path_, sep = \";\", encoding = \"unicode_escape\")\n",
    "\n",
    "# Create variables\n",
    "file['isoalpha3'] = \"BRA\"\n",
    "file['source']    = \"Ministry of Health\"\n",
    "file['source_id'] = file.CO_CNES\n",
    "file['amenity']   = \"hospital\"\n",
    "file['name']      = file.NO_FANTASIA\n",
    "file['lat']       = file.NU_LATITUDE\n",
    "file['lon']       = file.NU_LONGITUDE\n",
    "\n",
    "# Keep variables of interest\n",
    "file = file[file.columns[-7::]]\n",
    "\n",
    "# Add to master table\n",
    "healthcare_inf.append(file)"
   ]
  },
  {
   "cell_type": "markdown",
   "id": "bd12a04d",
   "metadata": {},
   "source": [
    "##### Ecuador"
   ]
  },
  {
   "cell_type": "code",
   "execution_count": 28,
   "id": "136360be",
   "metadata": {},
   "outputs": [],
   "source": [
    "# Import data\n",
    "file  = [file for file in official if \"ECU\" in file][0]\n",
    "path_ = f\"{scldatalake}{path}/{file}\"\n",
    "file  = pd.read_csv(path_)\n",
    "\n",
    "# Create variables\n",
    "file['isoalpha3'] = \"BRA\"\n",
    "file['source']    = \"Ministry of Health\"\n",
    "file['source_id'] = file.unicodigo\n",
    "file['amenity']   = \"hospital\"\n",
    "file['name']      = file[\"nombre oficial\"]\n",
    "file['lat']       = file.y\n",
    "file['lon']       = file.x\n",
    "\n",
    "# Keep variables of interest\n",
    "file = file[file.columns[-7::]]\n",
    "\n",
    "# Add to master table\n",
    "healthcare_inf.append(file)"
   ]
  },
  {
   "cell_type": "markdown",
   "id": "b58b0a3d",
   "metadata": {},
   "source": [
    "##### Guyana"
   ]
  },
  {
   "cell_type": "code",
   "execution_count": 42,
   "id": "9eee64b4",
   "metadata": {},
   "outputs": [],
   "source": [
    "# Import data\n",
    "    # Define inputs\n",
    "file  = [file for file in official if \"GUY\" in file][0]\n",
    "path_ = f\"{path}/{file}\"\n",
    "obj   = s3.get_object(Bucket = sclbucket, Key = path_)\n",
    "\n",
    "    # Read data\n",
    "excel_data = obj['Body'].read()\n",
    "excel_file = io.BytesIO(excel_data)\n",
    "file       = pd.read_excel(excel_file, engine = 'openpyxl')\n",
    "\n",
    "# Create variables\n",
    "file['isoalpha3'] = \"GUY\"\n",
    "file['source']    = \"Ministry of Health\"\n",
    "file['source_id'] = np.nan\n",
    "file['amenity']   = file[\"Facility Type\"]\n",
    "file['name']      = file.Name\n",
    "file['lat']       = file[\" latitude\"]\n",
    "file['lon']       = file[\" longitude\"]\n",
    "\n",
    "# Keep variables of interest\n",
    "file = file[file.columns[-7::]]\n",
    "\n",
    "# Add to master table\n",
    "healthcare_inf.append(file)"
   ]
  },
  {
   "cell_type": "markdown",
   "id": "bd626542",
   "metadata": {},
   "source": [
    "##### Jamaica"
   ]
  },
  {
   "cell_type": "code",
   "execution_count": 43,
   "id": "649e828b",
   "metadata": {},
   "outputs": [],
   "source": [
    "# Import data\n",
    "file  = [file for file in official if \"JAM\" in file][0]\n",
    "path_ = f\"{scldatalake}{path}/{file}\"\n",
    "file  = pd.read_csv(path_)\n",
    "\n",
    "# Create variables\n",
    "file['isoalpha3'] = \"JAM\"\n",
    "file['source']    = \"Ministry of Health\"\n",
    "file['source_id'] = np.nan\n",
    "file['amenity']   = file.Type.str.lower()\n",
    "file['name']      = file[['H_Name','Parish']].apply(lambda x : '{} in {}'.format(x[0],x[1]), axis = 1)\n",
    "file['lat']       = file.GeoJSON.apply(lambda x: re.findall(r\"\\d+\\.\\d+\", x)[1])\n",
    "file['lon']       = file.GeoJSON.apply(lambda x: re.findall(r\"\\d+\\.\\d+\", x)[0])\n",
    "\n",
    "# Keep variables of interest\n",
    "file = file[file.columns[-7::]]\n",
    "\n",
    "# Add to master table\n",
    "healthcare_inf.append(file)"
   ]
  },
  {
   "cell_type": "markdown",
   "id": "9d489ecc",
   "metadata": {},
   "source": [
    "##### Mexico"
   ]
  },
  {
   "cell_type": "code",
   "execution_count": 45,
   "id": "69dffcf3",
   "metadata": {},
   "outputs": [],
   "source": [
    "# Import data\n",
    "    # Define inputs\n",
    "file  = [file for file in official if \"MEX\" in file][0]\n",
    "path_ = f\"{path}/{file}\"\n",
    "obj   = s3.get_object(Bucket = sclbucket, Key = path_)\n",
    "\n",
    "    # Read data\n",
    "excel_data = obj['Body'].read()\n",
    "excel_file = io.BytesIO(excel_data)\n",
    "file       = pd.read_excel(excel_file, engine = 'openpyxl')\n",
    "\n",
    "# Create variables\n",
    "file['isoalpha3'] = \"MEX\"\n",
    "file['source']    = \"Ministry of Health\"\n",
    "file['source_id'] = file.ID\n",
    "file['amenity']   = file[\"NOMBRE TIPO ESTABLECIMIENTO\"].str.replace(\"DE \",\"\")\n",
    "file['name']      = file[\"NOMBRE DE LA UNIDAD\"]\n",
    "file['lat']       = file[\"LATITUD\"]\n",
    "file['lon']       = file[\"LONGITUD\"]\n",
    "\n",
    "# Keep variables of interest\n",
    "file = file[file.columns[-7::]]\n",
    "\n",
    "# Add to master table\n",
    "healthcare_inf.append(file)"
   ]
  },
  {
   "cell_type": "markdown",
   "id": "fca744c6",
   "metadata": {},
   "source": [
    "##### Peru"
   ]
  },
  {
   "cell_type": "code",
   "execution_count": 15,
   "id": "86f69704",
   "metadata": {},
   "outputs": [],
   "source": [
    "# Import data\n",
    "file  = [file for file in official if \"PER\" in file][0]\n",
    "path_ = f\"{scldatalake}{path}/{file}\"\n",
    "file  = pd.read_csv(path_)\n",
    "\n",
    "# Dictionary with amenity names\n",
    "n_before  = ['I-1','I-2','I-3','I-4','II-1','II-2','II-E','III-1','III-2','III-E','SD'] \n",
    "n_after   = [\"Primary care\"] * 4 + [\"Secondary care\"] * 3 + [\"Tertiary care\"] * 3 + [\"\"]\n",
    "d_amenity = dict(zip(n_before,n_after))\n",
    "\n",
    "# Create variables\n",
    "file['isoalpha3'] = \"PER\"\n",
    "file['source']    = \"Ministry of Health\"\n",
    "file['source_id'] = file.codigo_renaes\n",
    "file['amenity']   = file.categoria.replace(d_amenity)\n",
    "file['name']      = file[['nombre','diresa']].apply(lambda x : '{} in {}'.format(x[0].title(),x[1].title()), axis = 1)\n",
    "file['lat']       = file.latitud\n",
    "file['lon']       = file.longitud\n",
    "\n",
    "# Keep variables of interest\n",
    "file = file[file.columns[-7::]]\n",
    "\n",
    "# Add to master table\n",
    "healthcare_inf.append(file)"
   ]
  },
  {
   "cell_type": "markdown",
   "id": "c9238cb5",
   "metadata": {},
   "source": [
    "##### El Salvador"
   ]
  },
  {
   "cell_type": "code",
   "execution_count": 16,
   "id": "94ce4f07",
   "metadata": {},
   "outputs": [],
   "source": [
    "# Import data \n",
    "file_ = [file for file in official if \"SLV\" in file]\n",
    "for file in file_:\n",
    "    path_ = f\"{scldatalake}{path}/{file}\"\n",
    "    file  = pd.read_csv(path_)\n",
    "\n",
    "    # Create variables\n",
    "    file['isoalpha3'] = \"SLV\"\n",
    "    file['source']    = \"Ministry of Health\"\n",
    "    file['source_id'] = np.nan\n",
    "    file['amenity']   = file.ESPECIALIZACION.str.lower()\n",
    "    file['name']      = file[['Name','MUNICIPIO','REGION']].apply(lambda x : '{}, {}, {}'.format(x[0], x[1], x[2]), axis = 1)\n",
    "    file['lat']       = file.Y\n",
    "    file['lon']       = file.X\n",
    "\n",
    "    # Keep variables of interest\n",
    "    file = file[file.columns[-7::]]\n",
    "\n",
    "    # Add to master table\n",
    "    healthcare_inf.append(file)"
   ]
  },
  {
   "cell_type": "markdown",
   "id": "2b39c6b3",
   "metadata": {},
   "source": [
    "#### 4.2.2. Process healthsites records"
   ]
  },
  {
   "cell_type": "code",
   "execution_count": 17,
   "id": "48a7ab39",
   "metadata": {},
   "outputs": [],
   "source": [
    "# Import data\n",
    "file  = [file for file in public if \"healthsites\" in file][0]\n",
    "path_ = f\"{scldatalake}{path}/{file}\"\n",
    "file  = pd.read_csv(path_)\n",
    "\n",
    "# Keep rows of interest\n",
    "file = file[~file.isoalpha3.isin(off_name)]\n",
    "file = file[~file.isoalpha3.isna()]\n",
    "\n",
    "# Keep variables of interest\n",
    "file = file.drop(columns = \"geometry\")\n",
    "\n",
    "# Identify healthsites country names\n",
    "hsite_name = file.isoalpha3.unique().tolist()\n",
    "\n",
    "# Add to master tables\n",
    "healthcare_inf.append(file)"
   ]
  },
  {
   "cell_type": "markdown",
   "id": "ce56f4f2",
   "metadata": {},
   "source": [
    "#### 4.2.3. Process OSM records"
   ]
  },
  {
   "cell_type": "code",
   "execution_count": 18,
   "id": "d1b4befa",
   "metadata": {},
   "outputs": [],
   "source": [
    "# Import data\n",
    "file  = [file for file in public if \"OSM\" in file][0]\n",
    "path_ = f\"{scldatalake}{path}/{file}\"\n",
    "file  = pd.read_csv(path_, low_memory = False)\n",
    "\n",
    "# Keep IADB countries\n",
    "file = file[file.isoalpha3.isin(data.isoalpha3.unique())]\n",
    "\n",
    "# Keeps countries without official or healthsites.io records\n",
    "file = file[~file.isoalpha3.isin(off_name + hsite_name)]\n",
    "\n",
    "# Create variables\n",
    "file['source']    = \"OSM\"\n",
    "file['source_id'] = file.id\n",
    "\n",
    "# Keep variables of interest\n",
    "file = file[['isoalpha3','source','source_id','amenity','name','lat','lon']]\n",
    "\n",
    "# Add to master table\n",
    "healthcare_inf.append(file)"
   ]
  },
  {
   "cell_type": "markdown",
   "id": "895fe985",
   "metadata": {},
   "source": [
    "#### 4.2.4. Master table"
   ]
  },
  {
   "cell_type": "code",
   "execution_count": 19,
   "id": "48e979d8",
   "metadata": {},
   "outputs": [],
   "source": [
    "# Generate master table \n",
    "healthcare = pd.concat(healthcare_inf)\n",
    "healthcare = healthcare.reset_index(drop = True)"
   ]
  },
  {
   "cell_type": "code",
   "execution_count": 20,
   "id": "6fcfc9b2",
   "metadata": {},
   "outputs": [],
   "source": [
    "%%capture\n",
    "# Export to Data Lake \n",
    "path = scldatalake + f\"{path}/healthcare_facilities.csv\"\n",
    "healthcare.to_csv(path, compression = 'gzip')"
   ]
  }
 ],
 "metadata": {
  "kernelspec": {
   "display_name": "conda_python3",
   "language": "python",
   "name": "conda_python3"
  },
  "language_info": {
   "codemirror_mode": {
    "name": "ipython",
    "version": 3
   },
   "file_extension": ".py",
   "mimetype": "text/x-python",
   "name": "python",
   "nbconvert_exporter": "python",
   "pygments_lexer": "ipython3",
   "version": "3.6.13"
  }
 },
 "nbformat": 4,
 "nbformat_minor": 5
}
