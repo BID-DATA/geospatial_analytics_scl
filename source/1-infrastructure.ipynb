{
 "cells": [
  {
   "cell_type": "markdown",
   "id": "6da38943",
   "metadata": {},
   "source": [
    "# Isochrones\n",
    "\n",
    "**Objetive:** <br>\n",
    "The following notebook shows the step-by-step to creates a dataset with social infrastructure in LAC from official and public records. Public records include data from [Open Street Maps](https://www.openstreetmap.org/).<br>\n",
    "\n",
    "Author: Laura Goyeneche, Consultant SPH, lauragoy@iadb.org <br>\n",
    "Created: March 20, 2023"
   ]
  },
  {
   "cell_type": "markdown",
   "id": "88a54bf1",
   "metadata": {},
   "source": [
    "## 1. Basics"
   ]
  },
  {
   "cell_type": "code",
   "execution_count": 1,
   "id": "447e8b70",
   "metadata": {},
   "outputs": [],
   "source": [
    "%%capture\n",
    "# Libraries\n",
    "import io\n",
    "import os \n",
    "import re\n",
    "import time\n",
    "import boto3\n",
    "import dotenv\n",
    "import requests\n",
    "import numpy as np\n",
    "import pandas as pd\n",
    "import geopandas as gpd\n",
    "from bs4 import BeautifulSoup\n",
    "import matplotlib.pyplot as plt\n",
    "from geopandas.tools import sjoin\n",
    "from OSMPythonTools.overpass import Overpass, overpassQueryBuilder\n",
    "import overpy\n",
    "\n",
    "# Modules\n",
    "from utils import get_iadb"
   ]
  },
  {
   "cell_type": "code",
   "execution_count": 2,
   "id": "249a556b",
   "metadata": {},
   "outputs": [
    {
     "name": "stderr",
     "output_type": "stream",
     "text": [
      "Python-dotenv could not parse statement starting at line 31\n"
     ]
    }
   ],
   "source": [
    "# Working environments\n",
    "dotenv.load_dotenv(\"/home/ec2-user/SageMaker/.env\")\n",
    "sclbucket   = os.environ.get(\"sclbucket\")\n",
    "scldatalake = os.environ.get(\"scldatalake\")"
   ]
  },
  {
   "cell_type": "code",
   "execution_count": 3,
   "id": "a0de0655",
   "metadata": {},
   "outputs": [],
   "source": [
    "%%capture \n",
    "# Resources and buckets\n",
    "s3        = boto3.client('s3')\n",
    "s3_       = boto3.resource(\"s3\")\n",
    "s3_bucket = s3_.Bucket(sclbucket)"
   ]
  },
  {
   "cell_type": "markdown",
   "id": "7c29c6d1",
   "metadata": {},
   "source": [
    "## 2. Inputs"
   ]
  },
  {
   "cell_type": "code",
   "execution_count": 4,
   "id": "b558866c",
   "metadata": {},
   "outputs": [],
   "source": [
    "# Country names \n",
    "data = get_iadb()"
   ]
  },
  {
   "cell_type": "markdown",
   "id": "a3d064b6",
   "metadata": {},
   "source": [
    "## 3. OSM amenities"
   ]
  },
  {
   "cell_type": "code",
   "execution_count": 5,
   "id": "2734781c",
   "metadata": {},
   "outputs": [],
   "source": [
    "# Initialize Overpass API\n",
    "api = overpy.Overpass()"
   ]
  },
  {
   "cell_type": "markdown",
   "id": "bf6f3d2f",
   "metadata": {},
   "source": [
    "### 3.1. Financial"
   ]
  },
  {
   "cell_type": "code",
   "execution_count": 14,
   "id": "bb7cc162",
   "metadata": {},
   "outputs": [],
   "source": [
    "# Set parameters for the query\n",
    "isoalpha3 = \"COL\"\n",
    "amenity   = \"atm\"\n",
    "\n",
    "# Define the query for fetching data for ATMs in Colombia\n",
    "query = f'''\n",
    "        area[\"ISO3166-1:alpha3\"=\"{isoalpha3}\"]->.a;\n",
    "        ( node(area.a)[amenity={amenity}];\n",
    "          way(area.a)[amenity={amenity}];\n",
    "          rel(area.a)[amenity={amenity}];);\n",
    "        out center;\n",
    "        '''\n",
    "\n",
    "# Execute the query\n",
    "r = api.query(query)\n",
    "\n",
    "# Extract coordinates and metadata for nodes, ways, and relations\n",
    "    # Coordinates\n",
    "coords_node     = pd.DataFrame([{'id': node.id    , 'lon': node.lon           , 'lat': node.lat}            for node     in r.nodes]).reset_index()\n",
    "coords_way      = pd.DataFrame([{'id': way.id     , 'lon': way.center_lon     , 'lat': way.center_lat}      for way      in r.ways]).reset_index()\n",
    "coords_relation = pd.DataFrame([{'id': relation.id, 'lon': relation.center_lon, 'lat': relation.center_lat} for relation in r.relations]).reset_index()\n",
    "    \n",
    "    # Metadata\n",
    "metadata_node     = pd.DataFrame([node.tags     for node     in r.nodes]).reset_index()\n",
    "metadata_way      = pd.DataFrame([way.tags      for way      in r.ways]).reset_index()\n",
    "metadata_relation = pd.DataFrame([relation.tags for relation in r.relations]).reset_index()\n",
    "\n",
    "# Merge coordinates and metadata for nodes, ways, and relations\n",
    "output_node     = coords_node.merge(metadata_node, on = 'index').drop('index', axis = 1)\n",
    "output_way      = coords_way.merge(metadata_way, on = 'index').drop('index', axis = 1)\n",
    "output_relation = coords_relation.merge(metadata_relation, on = 'index').drop('index', axis = 1)\n",
    "\n",
    "# Combine the results into a single DataFrame\n",
    "output_tot_atm = pd.concat([output_node, output_way, output_relation])"
   ]
  },
  {
   "cell_type": "markdown",
   "id": "11f5bf97",
   "metadata": {},
   "source": [
    "### 3.2. Healthcare"
   ]
  },
  {
   "cell_type": "code",
   "execution_count": 16,
   "id": "132a3b09",
   "metadata": {},
   "outputs": [],
   "source": [
    "# Set parameters for the query\n",
    "isoalpha3 = \"COL\"\n",
    "amenity   = \"hospital\"\n",
    "\n",
    "# Define the query for fetching data related to hospitals in Colombia\n",
    "query = f'''\n",
    "        area[\"ISO3166-1:alpha3\"=\"{isoalpha3}\"]->.a;\n",
    "        ( node(area.a)[amenity={amenity}];\n",
    "          way(area.a)[amenity={amenity}];\n",
    "          rel(area.a)[amenity={amenity}];);\n",
    "        out center;\n",
    "        '''\n",
    "\n",
    "# Execute the query\n",
    "r = api.query(query)\n",
    "\n",
    "# Extract coordinates and metadata for nodes, ways, and relations\n",
    "    # Coordinates\n",
    "coords_node     = pd.DataFrame([{'id': node.id    , 'lon': node.lon           , 'lat': node.lat}            for node in r.nodes]).reset_index()\n",
    "coords_way      = pd.DataFrame([{'id': way.id     , 'lon': way.center_lon     , 'lat': way.center_lat}      for way in r.ways]).reset_index()\n",
    "coords_relation = pd.DataFrame([{'id': relation.id, 'lon': relation.center_lon, 'lat': relation.center_lat} for relation in r.relations]).reset_index()\n",
    "\n",
    "    # Metadata\n",
    "metadata_node     = pd.DataFrame([node.tags     for node     in r.nodes]).reset_index()\n",
    "metadata_way      = pd.DataFrame([way.tags      for way      in r.ways]).reset_index()\n",
    "metadata_relation = pd.DataFrame([relation.tags for relation in r.relations]).reset_index()\n",
    "\n",
    "# Merge coordinates and metadata for nodes, ways, and relations\n",
    "output_node     = coords_node.merge(metadata_node, on = 'index').drop('index', axis = 1)\n",
    "output_way      = coords_way.merge(metadata_way, on = 'index').drop('index', axis = 1)\n",
    "output_relation = coords_relation.merge(metadata_relation, on = 'index').drop('index', axis = 1)\n",
    "\n",
    "# Combine the results into a single DataFrame\n",
    "output_tot_hospitals = pd.concat([output_node, output_way, output_relation])"
   ]
  },
  {
   "cell_type": "markdown",
   "id": "245ba2c4",
   "metadata": {},
   "source": [
    "## 4. Master tables"
   ]
  },
  {
   "cell_type": "markdown",
   "id": "5053003c",
   "metadata": {},
   "source": [
    "###  4.1. Financial"
   ]
  },
  {
   "cell_type": "code",
   "execution_count": 6,
   "id": "10049579",
   "metadata": {},
   "outputs": [],
   "source": [
    "# Files in financial bucket\n",
    "path  = \"Geospatial infrastructure/Financial infrastructure\"\n",
    "files = [file.key.split(path + \"/\")[1] for file in s3_bucket.objects.filter(Prefix=path).all()]\n",
    "\n",
    "# Identify records by categories\n",
    "official = [file for file in files if \"official\" in file]\n",
    "public   = [file for file in files if \"OSM\"      in file]\n",
    "\n",
    "# Create master table \n",
    "financial_inf = []"
   ]
  },
  {
   "cell_type": "markdown",
   "id": "a9e1a6e2",
   "metadata": {},
   "source": [
    "#### 4.1.1. Process official records"
   ]
  },
  {
   "cell_type": "code",
   "execution_count": 7,
   "id": "33011b0a",
   "metadata": {},
   "outputs": [],
   "source": [
    "# Identify country names with official records\n",
    "off_name = list(set([file.split(\"/\")[1] for file in official]))"
   ]
  },
  {
   "cell_type": "markdown",
   "id": "b27c1f6e",
   "metadata": {},
   "source": [
    "#### 4.1.2. Process OSM records"
   ]
  },
  {
   "cell_type": "code",
   "execution_count": 8,
   "id": "bd7ac327",
   "metadata": {},
   "outputs": [],
   "source": [
    "# Import data\n",
    "file_  = [file for file in public if \"OSM\" in file]\n",
    "for file in file_:\n",
    "    path_ = f\"{scldatalake}{path}/{file}\"\n",
    "    file  = pd.read_csv(path_, low_memory = False)\n",
    "\n",
    "    # Keep IADB countries\n",
    "    file = file[file.isoalpha3.isin(data.isoalpha3.unique())]\n",
    "\n",
    "    # Keeps countries without official or healthsites.io records\n",
    "    file = file[~file.isoalpha3.isin(off_name)]\n",
    "\n",
    "    # Create variables\n",
    "    file['source']    = \"OSM\"\n",
    "    file['source_id'] = file.id\n",
    "\n",
    "    # Keep variables of interest\n",
    "    file = file[['isoalpha3','source','source_id','amenity','name','lat','lon']]\n",
    "\n",
    "    # Add to master table\n",
    "    financial_inf.append(file)"
   ]
  },
  {
   "cell_type": "markdown",
   "id": "530766df",
   "metadata": {},
   "source": [
    "#### 4.1.3. Master table"
   ]
  },
  {
   "cell_type": "code",
   "execution_count": 9,
   "id": "d798fecd",
   "metadata": {},
   "outputs": [],
   "source": [
    "# Generate master table \n",
    "financial = pd.concat(financial_inf)\n",
    "financial = financial.reset_index(drop = True)"
   ]
  },
  {
   "cell_type": "code",
   "execution_count": 10,
   "id": "dcaf2ac4",
   "metadata": {},
   "outputs": [],
   "source": [
    "%%capture\n",
    "# Export to Data Lake \n",
    "path = scldatalake + f\"{path}/financial_facilities.csv\"\n",
    "financial.to_csv(path, compression = 'gzip')"
   ]
  },
  {
   "cell_type": "code",
   "execution_count": 11,
   "id": "b612ff65",
   "metadata": {},
   "outputs": [],
   "source": [
    "# Temporary \n",
    "# TODO: erase once IT fix problem\n",
    "financial.to_csv(f\"../data/0-raw/infrastructure/financial_facilities.csv\")"
   ]
  },
  {
   "cell_type": "markdown",
   "id": "262b0e09",
   "metadata": {},
   "source": [
    "###  4.2. Health"
   ]
  },
  {
   "cell_type": "code",
   "execution_count": 66,
   "id": "ec3d51f5",
   "metadata": {},
   "outputs": [],
   "source": [
    "# Files in financial bucket\n",
    "path  = \"Geospatial infrastructure/Healthcare Facilities\"\n",
    "files = [file.key.split(path + \"/\")[1] for file in s3_bucket.objects.filter(Prefix=path).all()]\n",
    "\n",
    "# Identify records by categories\n",
    "official = [file for file in files if \"official\"    in file]\n",
    "public   = [file for file in files if \"healthsites\" in file or \"OSM\" in file]\n",
    "\n",
    "# Create master table \n",
    "healthcare_inf = []"
   ]
  },
  {
   "cell_type": "markdown",
   "id": "81adeeec",
   "metadata": {},
   "source": [
    "#### 4.2.1. Process official records"
   ]
  },
  {
   "cell_type": "code",
   "execution_count": 67,
   "id": "5cc15f17",
   "metadata": {},
   "outputs": [],
   "source": [
    "# Identify country names with official records\n",
    "off_name = list(set([file.split(\"/\")[1] for file in official]))"
   ]
  },
  {
   "cell_type": "markdown",
   "id": "9d910ff0",
   "metadata": {},
   "source": [
    "##### Argentina"
   ]
  },
  {
   "cell_type": "code",
   "execution_count": 69,
   "id": "282fe7e7",
   "metadata": {},
   "outputs": [],
   "source": [
    "# Import data\n",
    "file  = [file for file in official if \"ARG\" in file][0]\n",
    "path_ = f\"{scldatalake}{path}/{file}\"\n",
    "file  = pd.read_csv(path_)"
   ]
  },
  {
   "cell_type": "code",
   "execution_count": 70,
   "id": "0f4e2ffe",
   "metadata": {},
   "outputs": [],
   "source": [
    "# Filter amenities\n",
    "file = file[~file.tipologia_id.isin([53,80])]"
   ]
  },
  {
   "cell_type": "code",
   "execution_count": 71,
   "id": "695aa0c8",
   "metadata": {},
   "outputs": [],
   "source": [
    "# Create variables\n",
    "file['isoalpha3'] = \"ARG\"\n",
    "file['source']    = \"Ministry of Health\"\n",
    "file['source_id'] = file.establecimiento_id\n",
    "file['amenity']   = file.tipologia_sigla\n",
    "file['name']      = file.establecimiento_nombre\n",
    "file['lat']       = file.y\n",
    "file['lon']       = file.x\n",
    "\n",
    "# Keep variables of interest\n",
    "file = file[file.columns[-7::]]\n",
    "\n",
    "# Add to master table\n",
    "healthcare_inf.append(file)"
   ]
  },
  {
   "cell_type": "markdown",
   "id": "6595ca4c",
   "metadata": {},
   "source": [
    "##### Brasil"
   ]
  },
  {
   "cell_type": "code",
   "execution_count": 72,
   "id": "ca48eba0",
   "metadata": {},
   "outputs": [],
   "source": [
    "%%capture\n",
    "# Import data\n",
    "file  = [file for file in official if \"BRA\" in file][0]\n",
    "path_ = f\"{scldatalake}{path}/{file}\"\n",
    "file  = pd.read_csv(path_, sep = \";\", encoding = \"unicode_escape\")"
   ]
  },
  {
   "cell_type": "code",
   "execution_count": 73,
   "id": "ffe6b305",
   "metadata": {},
   "outputs": [],
   "source": [
    "# Filter amenities\n",
    "file = file[file.TP_UNIDADE.isin([1,2,4,5,7,15,21,36,61,62,67,69,70,76,80,81,82,85])]"
   ]
  },
  {
   "cell_type": "code",
   "execution_count": 74,
   "id": "d93f082f",
   "metadata": {},
   "outputs": [],
   "source": [
    "# Rename amenities name \n",
    "UNID_NAME = {1 :\"Posto de Saude\",\n",
    "             2 :\"Centro de Saude/Unidade Basica\",\n",
    "             4 :\"Policlinica\",\n",
    "             5 :\"Hospital Geral\",\n",
    "             7 :\"Hospital Especializado\",\n",
    "             15:\"Unidade Mista\",\n",
    "             21:\"Pronto Socorro Especializado\",\n",
    "             36:\"Clinica/Centro de Especialidade\",\n",
    "             61:\"Centro de Parto Normal - Isolado\",\n",
    "             62:\"Hospital/Dia - Isolado\",\n",
    "             67:\"Laboratorio Central de Saude Publica - Lacen\",\n",
    "             69:\"Centro de Atencao Hemoterapica E Ou Hematologica\",\n",
    "             70:\"Centro de Atencao Psicossocial\",\n",
    "             76:\"Central de Regulacao Medica Das Urgencias\",\n",
    "             80:\"Laboratorio de Saude Publica\",\n",
    "             81:\"Central de Regulacao Do Acesso\",\n",
    "             82:\"Central de Notificacao,Captacao E Distrib de Orgaos Estadual\",\n",
    "             85:\"Centro de Imunizacao\"}"
   ]
  },
  {
   "cell_type": "code",
   "execution_count": 75,
   "id": "e26752ea",
   "metadata": {},
   "outputs": [],
   "source": [
    "%%capture \n",
    "file.TP_UNIDADE = file.TP_UNIDADE.replace(UNID_NAME)"
   ]
  },
  {
   "cell_type": "code",
   "execution_count": 76,
   "id": "2a458b21",
   "metadata": {},
   "outputs": [],
   "source": [
    "%%capture\n",
    "# Create variables\n",
    "file['isoalpha3'] = \"BRA\"\n",
    "file['source']    = \"Ministry of Health\"\n",
    "file['source_id'] = file.CO_CNES\n",
    "file['amenity']   = file.TP_UNIDADE\n",
    "file['name']      = file.NO_FANTASIA\n",
    "file['lat']       = file.NU_LATITUDE\n",
    "file['lon']       = file.NU_LONGITUDE\n",
    "\n",
    "# Keep variables of interest\n",
    "file = file[file.columns[-7::]]\n",
    "\n",
    "# Add to master table\n",
    "healthcare_inf.append(file)"
   ]
  },
  {
   "cell_type": "markdown",
   "id": "ef1516e1",
   "metadata": {},
   "source": [
    "##### Ecuador"
   ]
  },
  {
   "cell_type": "code",
   "execution_count": 77,
   "id": "4659701b",
   "metadata": {},
   "outputs": [],
   "source": [
    "# Import data\n",
    "file  = [file for file in official if \"ECU\" in file][0]\n",
    "path_ = f\"{scldatalake}{path}/{file}\"\n",
    "file  = pd.read_csv(path_)"
   ]
  },
  {
   "cell_type": "code",
   "execution_count": 82,
   "id": "6d6f44e7",
   "metadata": {},
   "outputs": [],
   "source": [
    "# Filter amenities\n",
    "file = file[file[\"nivel de atencion\"].isin([\"NIVEL 1\",\"NIVEL 2\",\"NIVEL 3\"])]"
   ]
  },
  {
   "cell_type": "code",
   "execution_count": 83,
   "id": "1a692885",
   "metadata": {},
   "outputs": [],
   "source": [
    "# Create variables\n",
    "file['isoalpha3'] = \"ECU\"\n",
    "file['source']    = \"Ministry of Health\"\n",
    "file['source_id'] = file.unicodigo\n",
    "file['amenity']   = file.tipologia\n",
    "file['name']      = file[\"nombre oficial\"]\n",
    "file['lat']       = file.y\n",
    "file['lon']       = file.x\n",
    "\n",
    "# Keep variables of interest\n",
    "file = file[file.columns[-7::]]\n",
    "\n",
    "# Add to master table\n",
    "healthcare_inf.append(file)"
   ]
  },
  {
   "cell_type": "markdown",
   "id": "66327f8e",
   "metadata": {},
   "source": [
    "##### Guatemala"
   ]
  },
  {
   "cell_type": "code",
   "execution_count": 84,
   "id": "384288d6",
   "metadata": {},
   "outputs": [],
   "source": [
    "# Import data \n",
    "file  = [file for file in official if \"GTM\" in file][0]\n",
    "path_ = f\"{scldatalake}{path}/{file}\"\n",
    "file  = pd.read_csv(path_)"
   ]
  },
  {
   "cell_type": "code",
   "execution_count": 89,
   "id": "ddc7cdb5",
   "metadata": {},
   "outputs": [],
   "source": [
    "# Filter amenities \n",
    "tipo_serv = [\"CENTRO CONVERGENCIA\",\"PUESTO DE SALUD\",\"CENTRO DE SALUD\",\"HOSPITAL\",\"CENTRO ATENCION PERMANEN*\",\"UNIDAD TECNICA SALUD\",\"CENTRO URGENCIAS MEDICAS\",\"UNIDAD 24 HORAS\"]\n",
    "file      = file[file.tipo_serv.isin(tipo_serv)]"
   ]
  },
  {
   "cell_type": "code",
   "execution_count": 90,
   "id": "d7e53670",
   "metadata": {},
   "outputs": [],
   "source": [
    "# Create variables\n",
    "file['isoalpha3'] = \"GTM\"\n",
    "file['source']    = \"Ministry of Health\"\n",
    "file['source_id'] = file.gid\n",
    "file['amenity']   = file.tipo_serv\n",
    "file['name']      = file.servicio\n",
    "file['lat']       = file.lat\n",
    "file['lon']       = file.lon\n",
    "\n",
    "# Keep variables of interest\n",
    "file = file[file.columns[-7::]]\n",
    "\n",
    "# Add to master table\n",
    "healthcare_inf.append(file)"
   ]
  },
  {
   "cell_type": "markdown",
   "id": "17f67177",
   "metadata": {},
   "source": [
    "##### Guyana"
   ]
  },
  {
   "cell_type": "code",
   "execution_count": 91,
   "id": "8fb3162f",
   "metadata": {},
   "outputs": [],
   "source": [
    "# Import data\n",
    "    # Define inputs\n",
    "file  = [file for file in official if \"GUY\" in file][0]\n",
    "path_ = f\"{path}/{file}\"\n",
    "obj   = s3.get_object(Bucket = sclbucket, Key = path_)\n",
    "\n",
    "    # Read data\n",
    "excel_data = obj['Body'].read()\n",
    "excel_file = io.BytesIO(excel_data)\n",
    "file       = pd.read_excel(excel_file, engine = 'openpyxl')"
   ]
  },
  {
   "cell_type": "code",
   "execution_count": 92,
   "id": "c1b1f841",
   "metadata": {},
   "outputs": [],
   "source": [
    "# Create variables\n",
    "file['isoalpha3'] = \"GUY\"\n",
    "file['source']    = \"Ministry of Health\"\n",
    "file['source_id'] = np.nan\n",
    "file['amenity']   = file[\"Facility Type\"]\n",
    "file['name']      = file.Name\n",
    "file['lat']       = file[\" latitude\"]\n",
    "file['lon']       = file[\" longitude\"]\n",
    "\n",
    "# Keep variables of interest\n",
    "file = file[file.columns[-7::]]\n",
    "\n",
    "# Add to master table\n",
    "healthcare_inf.append(file)"
   ]
  },
  {
   "cell_type": "markdown",
   "id": "973433cc",
   "metadata": {},
   "source": [
    "##### Honduras"
   ]
  },
  {
   "cell_type": "code",
   "execution_count": 93,
   "id": "0f3a963c",
   "metadata": {},
   "outputs": [],
   "source": [
    "# Import data \n",
    "file  = [file for file in official if \"HND\" in file][0]\n",
    "path_ = f\"{path}/{file}\"\n",
    "obj   = s3.get_object(Bucket = sclbucket, Key = path_)\n",
    "excel_data = obj['Body'].read()\n",
    "excel_file = io.BytesIO(excel_data)\n",
    "file       = pd.read_excel(excel_file, engine = 'openpyxl', sheet_name = \"coordenadas\")"
   ]
  },
  {
   "cell_type": "code",
   "execution_count": 94,
   "id": "b8197321",
   "metadata": {},
   "outputs": [],
   "source": [
    "# Create variables\n",
    "file['isoalpha3'] = \"HND\"\n",
    "file['source']    = \"Ministry of Health\"\n",
    "file['source_id'] = file.codigo\n",
    "file['amenity']   = np.nan\n",
    "file['name']      = file[\"Nombre US\"]\n",
    "file['lat']       = file.lat\n",
    "file['lon']       = file.lon\n",
    "\n",
    "# Keep variables of interest\n",
    "file = file[file.columns[-7::]]\n",
    "\n",
    "# Add to master table\n",
    "healthcare_inf.append(file)"
   ]
  },
  {
   "cell_type": "markdown",
   "id": "f4675956",
   "metadata": {},
   "source": [
    "##### Jamaica"
   ]
  },
  {
   "cell_type": "code",
   "execution_count": 95,
   "id": "e634facb",
   "metadata": {},
   "outputs": [],
   "source": [
    "# Import data\n",
    "file  = [file for file in official if \"JAM\" in file][0]\n",
    "path_ = f\"{scldatalake}{path}/{file}\"\n",
    "file  = pd.read_csv(path_)"
   ]
  },
  {
   "cell_type": "code",
   "execution_count": 96,
   "id": "f5b293dd",
   "metadata": {},
   "outputs": [],
   "source": [
    "# Create variables\n",
    "file['isoalpha3'] = \"JAM\"\n",
    "file['source']    = \"Ministry of Health\"\n",
    "file['source_id'] = np.nan\n",
    "file['amenity']   = file.Type.str.lower()\n",
    "file['name']      = file[['H_Name','Parish']].apply(lambda x : '{} in {}'.format(x[0],x[1]), axis = 1)\n",
    "file['lat']       = file.GeoJSON.apply(lambda x: re.findall(r\"\\d+\\.\\d+\", x)[1]).astype(float)\n",
    "file['lon']       = file.GeoJSON.apply(lambda x: re.findall(r\"\\d+\\.\\d+\", x)[0]).astype(float) * -1\n",
    "\n",
    "# Keep variables of interest\n",
    "file = file[file.columns[-7::]]\n",
    "\n",
    "# Add to master table\n",
    "healthcare_inf.append(file)"
   ]
  },
  {
   "cell_type": "markdown",
   "id": "edc63550",
   "metadata": {},
   "source": [
    "##### Mexico"
   ]
  },
  {
   "cell_type": "code",
   "execution_count": 97,
   "id": "7d5fac1b",
   "metadata": {},
   "outputs": [],
   "source": [
    "# Import data\n",
    "    # Define inputs\n",
    "file  = [file for file in official if \"MEX\" in file][0]\n",
    "path_ = f\"{path}/{file}\"\n",
    "obj   = s3.get_object(Bucket = sclbucket, Key = path_)\n",
    "\n",
    "    # Read data\n",
    "excel_data = obj['Body'].read()\n",
    "excel_file = io.BytesIO(excel_data)\n",
    "file       = pd.read_excel(excel_file, engine = 'openpyxl')"
   ]
  },
  {
   "cell_type": "code",
   "execution_count": 100,
   "id": "460c7bde",
   "metadata": {},
   "outputs": [],
   "source": [
    "# Filter amenities \n",
    "clave = [\"CAF\",\"99\",\"W\",\"F\",\"OFI\",\"ALM\",\"BS\",\"X\",\"ANT\",\"NES\",\"UM\",\"HM\",\"OTR\",\"UM TEMPORAL COVID\",\"OTCE\",\"BS\",\"MR\",\"NA\",\"P\",\"PERICIALES\"]\n",
    "file  = file[~file[\"CLAVE DE TIPOLOGIA\"].isin(clave)]"
   ]
  },
  {
   "cell_type": "code",
   "execution_count": 105,
   "id": "980c1223",
   "metadata": {},
   "outputs": [],
   "source": [
    "# Create variables\n",
    "file['isoalpha3'] = \"MEX\"\n",
    "file['source']    = \"Ministry of Health\"\n",
    "file['source_id'] = file.ID\n",
    "file['amenity']   = file[\"NOMBRE TIPO ESTABLECIMIENTO\"].str.replace(\"DE \",\"\")\n",
    "file['name']      = file[\"NOMBRE DE LA UNIDAD\"]\n",
    "file['lat']       = file[\"LATITUD\"]\n",
    "file['lon']       = file[\"LONGITUD\"]\n",
    "\n",
    "# Keep variables of interest\n",
    "file = file[file.columns[-7::]]\n",
    "\n",
    "# Add to master table\n",
    "healthcare_inf.append(file)"
   ]
  },
  {
   "cell_type": "markdown",
   "id": "0cfc7948",
   "metadata": {},
   "source": [
    "##### Peru"
   ]
  },
  {
   "cell_type": "code",
   "execution_count": 106,
   "id": "685ad3ef",
   "metadata": {},
   "outputs": [],
   "source": [
    "# Import data\n",
    "file  = [file for file in official if \"PER\" in file][0]\n",
    "path_ = f\"{scldatalake}{path}/{file}\"\n",
    "file  = pd.read_csv(path_)"
   ]
  },
  {
   "cell_type": "code",
   "execution_count": 107,
   "id": "632c577f",
   "metadata": {},
   "outputs": [],
   "source": [
    "# Dictionary with amenity names\n",
    "n_before  = ['I-1','I-2','I-3','I-4','II-1','II-2','II-E','III-1','III-2','III-E','SD'] \n",
    "n_after   = [\"Primary care\"] * 4 + [\"Secondary care\"] * 3 + [\"Tertiary care\"] * 3 + [\"\"]\n",
    "d_amenity = dict(zip(n_before,n_after))"
   ]
  },
  {
   "cell_type": "code",
   "execution_count": 110,
   "id": "65f3d77a",
   "metadata": {},
   "outputs": [],
   "source": [
    "# Create variables\n",
    "file['isoalpha3'] = \"PER\"\n",
    "file['source']    = \"Ministry of Health\"\n",
    "file['source_id'] = file.codigo_renaes\n",
    "file['amenity']   = file.categoria.replace(d_amenity)\n",
    "file['name']      = file[['nombre','diresa']].apply(lambda x : '{} in {}'.format(x[0].title(),x[1].title()), axis = 1)\n",
    "file['lat']       = file.latitud\n",
    "file['lon']       = file.longitud\n",
    "\n",
    "# Keep variables of interest\n",
    "file = file[file.columns[-7::]]\n",
    "\n",
    "# Add to master table\n",
    "healthcare_inf.append(file)"
   ]
  },
  {
   "cell_type": "markdown",
   "id": "f6cd5648",
   "metadata": {},
   "source": [
    "##### El Salvador"
   ]
  },
  {
   "cell_type": "code",
   "execution_count": 111,
   "id": "a21304f1",
   "metadata": {},
   "outputs": [],
   "source": [
    "# Import data \n",
    "file_ = [file for file in official if \"SLV\" in file]\n",
    "for file in file_:\n",
    "    path_ = f\"{scldatalake}{path}/{file}\"\n",
    "    file  = pd.read_csv(path_)\n",
    "\n",
    "    # Create variables\n",
    "    file['isoalpha3'] = \"SLV\"\n",
    "    file['source']    = \"Ministry of Health\"\n",
    "    file['source_id'] = np.nan\n",
    "    file['amenity']   = file.ESPECIALIZACION.str.lower()\n",
    "    file['name']      = file[['Name','MUNICIPIO','REGION']].apply(lambda x : '{}, {}, {}'.format(x[0], x[1], x[2]), axis = 1)\n",
    "    file['lat']       = file.Y\n",
    "    file['lon']       = file.X\n",
    "\n",
    "    # Keep variables of interest\n",
    "    file = file[file.columns[-7::]]\n",
    "\n",
    "    # Add to master table\n",
    "    healthcare_inf.append(file)"
   ]
  },
  {
   "cell_type": "markdown",
   "id": "ee68cec7",
   "metadata": {},
   "source": [
    "#### 4.2.2. Process healthsites records"
   ]
  },
  {
   "cell_type": "code",
   "execution_count": 17,
   "id": "5faedd0c",
   "metadata": {},
   "outputs": [],
   "source": [
    "# Import data\n",
    "file  = [file for file in public if \"healthsites\" in file][0]\n",
    "path_ = f\"{scldatalake}{path}/{file}\"\n",
    "file  = pd.read_csv(path_)\n",
    "\n",
    "# Keep rows of interest\n",
    "file = file[~file.isoalpha3.isin(off_name)]\n",
    "file = file[~file.isoalpha3.isna()]\n",
    "\n",
    "# Keep variables of interest\n",
    "file = file.drop(columns = \"geometry\")\n",
    "\n",
    "# Identify healthsites country names\n",
    "hsite_name = file.isoalpha3.unique().tolist()\n",
    "\n",
    "# Add to master tables\n",
    "healthcare_inf.append(file)"
   ]
  },
  {
   "cell_type": "markdown",
   "id": "2016c3dd",
   "metadata": {},
   "source": [
    "#### 4.2.3. Process OSM records"
   ]
  },
  {
   "cell_type": "code",
   "execution_count": 18,
   "id": "06ffaa7a",
   "metadata": {},
   "outputs": [],
   "source": [
    "# Import data\n",
    "file  = [file for file in public if \"OSM\" in file][0]\n",
    "path_ = f\"{scldatalake}{path}/{file}\"\n",
    "file  = pd.read_csv(path_, low_memory = False)\n",
    "\n",
    "# Keep IADB countries\n",
    "file = file[file.isoalpha3.isin(data.isoalpha3.unique())]\n",
    "\n",
    "# Keeps countries without official or healthsites.io records\n",
    "file = file[~file.isoalpha3.isin(off_name + hsite_name)]\n",
    "\n",
    "# Create variables\n",
    "file['source']    = \"OSM\"\n",
    "file['source_id'] = file.id\n",
    "\n",
    "# Keep variables of interest\n",
    "file = file[['isoalpha3','source','source_id','amenity','name','lat','lon']]\n",
    "\n",
    "# Add to master table\n",
    "healthcare_inf.append(file)"
   ]
  },
  {
   "cell_type": "markdown",
   "id": "5e2d8355",
   "metadata": {},
   "source": [
    "#### 4.2.4. Master table"
   ]
  },
  {
   "cell_type": "code",
   "execution_count": 19,
   "id": "9003a217",
   "metadata": {},
   "outputs": [],
   "source": [
    "# Generate master table \n",
    "healthcare = pd.concat(healthcare_inf)\n",
    "healthcare = healthcare.reset_index(drop = True)"
   ]
  },
  {
   "cell_type": "code",
   "execution_count": 20,
   "id": "10c39ad1",
   "metadata": {},
   "outputs": [],
   "source": [
    "%%capture\n",
    "# Export to Data Lake \n",
    "path = scldatalake + f\"{path}/healthcare_facilities.csv\"\n",
    "healthcare.to_csv(path, compression = 'gzip')"
   ]
  }
 ],
 "metadata": {
  "kernelspec": {
   "display_name": "conda_python3",
   "language": "python",
   "name": "conda_python3"
  },
  "language_info": {
   "codemirror_mode": {
    "name": "ipython",
    "version": 3
   },
   "file_extension": ".py",
   "mimetype": "text/x-python",
   "name": "python",
   "nbconvert_exporter": "python",
   "pygments_lexer": "ipython3",
   "version": "3.6.13"
  }
 },
 "nbformat": 4,
 "nbformat_minor": 5
}
